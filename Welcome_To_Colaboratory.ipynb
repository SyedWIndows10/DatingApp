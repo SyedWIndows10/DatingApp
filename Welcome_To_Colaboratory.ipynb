{
  "nbformat": 4,
  "nbformat_minor": 0,
  "metadata": {
    "colab": {
      "name": "Welcome To Colaboratory",
      "provenance": [],
      "collapsed_sections": [],
      "toc_visible": true,
      "include_colab_link": true
    },
    "kernelspec": {
      "display_name": "Python 3",
      "name": "python3"
    }
  },
  "cells": [
    {
      "cell_type": "markdown",
      "metadata": {
        "id": "view-in-github",
        "colab_type": "text"
      },
      "source": [
        "<a href=\"https://colab.research.google.com/github/SyedWIndows10/DatingApp/blob/master/Welcome_To_Colaboratory.ipynb\" target=\"_parent\"><img src=\"https://colab.research.google.com/assets/colab-badge.svg\" alt=\"Open In Colab\"/></a>"
      ]
    },
    {
      "cell_type": "code",
      "metadata": {
        "id": "FwakY1McLFZ3",
        "colab_type": "code",
        "colab": {
          "resources": {
            "http://localhost:8080/nbextensions/google.colab/files.js": {
              "data": "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",
              "ok": true,
              "headers": [
                [
                  "content-type",
                  "application/javascript"
                ]
              ],
              "status": 200,
              "status_text": "OK"
            }
          },
          "base_uri": "https://localhost:8080/",
          "height": 74
        },
        "outputId": "e20c013a-7b52-4cfe-8fb5-47d483cbf48c"
      },
      "source": [
        "from google.colab import files\n",
        "uploaded = files.upload()"
      ],
      "execution_count": 11,
      "outputs": [
        {
          "output_type": "display_data",
          "data": {
            "text/html": [
              "\n",
              "     <input type=\"file\" id=\"files-b4d2c6ee-b47b-4da5-9d11-7c881e1c5590\" name=\"files[]\" multiple disabled />\n",
              "     <output id=\"result-b4d2c6ee-b47b-4da5-9d11-7c881e1c5590\">\n",
              "      Upload widget is only available when the cell has been executed in the\n",
              "      current browser session. Please rerun this cell to enable.\n",
              "      </output>\n",
              "      <script src=\"/nbextensions/google.colab/files.js\"></script> "
            ],
            "text/plain": [
              "<IPython.core.display.HTML object>"
            ]
          },
          "metadata": {
            "tags": []
          }
        },
        {
          "output_type": "stream",
          "text": [
            "Saving Standard Metropolitan Areas Data - train_data - data.csv to Standard Metropolitan Areas Data - train_data - data (1).csv\n"
          ],
          "name": "stdout"
        }
      ]
    },
    {
      "cell_type": "code",
      "metadata": {
        "id": "GHLWaPbFLP_z",
        "colab_type": "code",
        "colab": {
          "base_uri": "https://localhost:8080/",
          "height": 402
        },
        "outputId": "22565efa-804d-4ce9-dd9c-5e30b19fbac1"
      },
      "source": [
        "import pandas as pd\n",
        "import io\n",
        "\n",
        "df = pd.read_csv(io.StringIO(uploaded['Standard Metropolitan Areas Data - train_data - data.csv'].decode('utf-8')))\n",
        "df"
      ],
      "execution_count": 12,
      "outputs": [
        {
          "output_type": "execute_result",
          "data": {
            "text/html": [
              "<div>\n",
              "<style scoped>\n",
              "    .dataframe tbody tr th:only-of-type {\n",
              "        vertical-align: middle;\n",
              "    }\n",
              "\n",
              "    .dataframe tbody tr th {\n",
              "        vertical-align: top;\n",
              "    }\n",
              "\n",
              "    .dataframe thead th {\n",
              "        text-align: right;\n",
              "    }\n",
              "</style>\n",
              "<table border=\"1\" class=\"dataframe\">\n",
              "  <thead>\n",
              "    <tr style=\"text-align: right;\">\n",
              "      <th></th>\n",
              "      <th>land_area</th>\n",
              "      <th>percent_city</th>\n",
              "      <th>percent_senior</th>\n",
              "      <th>physicians</th>\n",
              "      <th>hospital_beds</th>\n",
              "      <th>graduates</th>\n",
              "      <th>work_force</th>\n",
              "      <th>income</th>\n",
              "      <th>region</th>\n",
              "      <th>crime_rate</th>\n",
              "    </tr>\n",
              "  </thead>\n",
              "  <tbody>\n",
              "    <tr>\n",
              "      <th>0</th>\n",
              "      <td>1384</td>\n",
              "      <td>78.1</td>\n",
              "      <td>12.3</td>\n",
              "      <td>25627</td>\n",
              "      <td>69678</td>\n",
              "      <td>50.1</td>\n",
              "      <td>4083.9</td>\n",
              "      <td>72100</td>\n",
              "      <td>1</td>\n",
              "      <td>75.55</td>\n",
              "    </tr>\n",
              "    <tr>\n",
              "      <th>1</th>\n",
              "      <td>3719</td>\n",
              "      <td>43.9</td>\n",
              "      <td>9.4</td>\n",
              "      <td>13326</td>\n",
              "      <td>43292</td>\n",
              "      <td>53.9</td>\n",
              "      <td>3305.9</td>\n",
              "      <td>54542</td>\n",
              "      <td>2</td>\n",
              "      <td>56.03</td>\n",
              "    </tr>\n",
              "    <tr>\n",
              "      <th>2</th>\n",
              "      <td>3553</td>\n",
              "      <td>37.4</td>\n",
              "      <td>10.7</td>\n",
              "      <td>9724</td>\n",
              "      <td>33731</td>\n",
              "      <td>50.6</td>\n",
              "      <td>2066.3</td>\n",
              "      <td>33216</td>\n",
              "      <td>1</td>\n",
              "      <td>41.32</td>\n",
              "    </tr>\n",
              "    <tr>\n",
              "      <th>3</th>\n",
              "      <td>3916</td>\n",
              "      <td>29.9</td>\n",
              "      <td>8.8</td>\n",
              "      <td>6402</td>\n",
              "      <td>24167</td>\n",
              "      <td>52.2</td>\n",
              "      <td>1966.7</td>\n",
              "      <td>32906</td>\n",
              "      <td>2</td>\n",
              "      <td>67.38</td>\n",
              "    </tr>\n",
              "    <tr>\n",
              "      <th>4</th>\n",
              "      <td>2480</td>\n",
              "      <td>31.5</td>\n",
              "      <td>10.5</td>\n",
              "      <td>8502</td>\n",
              "      <td>16751</td>\n",
              "      <td>66.1</td>\n",
              "      <td>1514.5</td>\n",
              "      <td>26573</td>\n",
              "      <td>4</td>\n",
              "      <td>80.19</td>\n",
              "    </tr>\n",
              "    <tr>\n",
              "      <th>...</th>\n",
              "      <td>...</td>\n",
              "      <td>...</td>\n",
              "      <td>...</td>\n",
              "      <td>...</td>\n",
              "      <td>...</td>\n",
              "      <td>...</td>\n",
              "      <td>...</td>\n",
              "      <td>...</td>\n",
              "      <td>...</td>\n",
              "      <td>...</td>\n",
              "    </tr>\n",
              "    <tr>\n",
              "      <th>94</th>\n",
              "      <td>1511</td>\n",
              "      <td>38.7</td>\n",
              "      <td>10.7</td>\n",
              "      <td>348</td>\n",
              "      <td>1093</td>\n",
              "      <td>50.4</td>\n",
              "      <td>127.2</td>\n",
              "      <td>1452</td>\n",
              "      <td>4</td>\n",
              "      <td>70.66</td>\n",
              "    </tr>\n",
              "    <tr>\n",
              "      <th>95</th>\n",
              "      <td>1543</td>\n",
              "      <td>39.6</td>\n",
              "      <td>8.1</td>\n",
              "      <td>159</td>\n",
              "      <td>481</td>\n",
              "      <td>30.3</td>\n",
              "      <td>80.6</td>\n",
              "      <td>769</td>\n",
              "      <td>3</td>\n",
              "      <td>36.36</td>\n",
              "    </tr>\n",
              "    <tr>\n",
              "      <th>96</th>\n",
              "      <td>1011</td>\n",
              "      <td>37.8</td>\n",
              "      <td>10.5</td>\n",
              "      <td>264</td>\n",
              "      <td>964</td>\n",
              "      <td>70.7</td>\n",
              "      <td>93.2</td>\n",
              "      <td>1337</td>\n",
              "      <td>3</td>\n",
              "      <td>60.16</td>\n",
              "    </tr>\n",
              "    <tr>\n",
              "      <th>97</th>\n",
              "      <td>813</td>\n",
              "      <td>13.4</td>\n",
              "      <td>10.9</td>\n",
              "      <td>371</td>\n",
              "      <td>4355</td>\n",
              "      <td>58.0</td>\n",
              "      <td>97.0</td>\n",
              "      <td>1589</td>\n",
              "      <td>1</td>\n",
              "      <td>36.33</td>\n",
              "    </tr>\n",
              "    <tr>\n",
              "      <th>98</th>\n",
              "      <td>654</td>\n",
              "      <td>28.8</td>\n",
              "      <td>3.9</td>\n",
              "      <td>140</td>\n",
              "      <td>1296</td>\n",
              "      <td>55.1</td>\n",
              "      <td>66.9</td>\n",
              "      <td>1148</td>\n",
              "      <td>3</td>\n",
              "      <td>68.76</td>\n",
              "    </tr>\n",
              "  </tbody>\n",
              "</table>\n",
              "<p>99 rows × 10 columns</p>\n",
              "</div>"
            ],
            "text/plain": [
              "    land_area  percent_city  percent_senior  ...  income  region  crime_rate\n",
              "0        1384          78.1            12.3  ...   72100       1       75.55\n",
              "1        3719          43.9             9.4  ...   54542       2       56.03\n",
              "2        3553          37.4            10.7  ...   33216       1       41.32\n",
              "3        3916          29.9             8.8  ...   32906       2       67.38\n",
              "4        2480          31.5            10.5  ...   26573       4       80.19\n",
              "..        ...           ...             ...  ...     ...     ...         ...\n",
              "94       1511          38.7            10.7  ...    1452       4       70.66\n",
              "95       1543          39.6             8.1  ...     769       3       36.36\n",
              "96       1011          37.8            10.5  ...    1337       3       60.16\n",
              "97        813          13.4            10.9  ...    1589       1       36.33\n",
              "98        654          28.8             3.9  ...    1148       3       68.76\n",
              "\n",
              "[99 rows x 10 columns]"
            ]
          },
          "metadata": {
            "tags": []
          },
          "execution_count": 12
        }
      ]
    },
    {
      "cell_type": "code",
      "metadata": {
        "id": "gjMj3y8fiyr7",
        "colab_type": "code",
        "colab": {
          "base_uri": "https://localhost:8080/",
          "height": 34
        },
        "outputId": "3c315f20-7646-49fb-a4d6-68f37711ae6d"
      },
      "source": [
        "df.shape"
      ],
      "execution_count": 13,
      "outputs": [
        {
          "output_type": "execute_result",
          "data": {
            "text/plain": [
              "(99, 10)"
            ]
          },
          "metadata": {
            "tags": []
          },
          "execution_count": 13
        }
      ]
    },
    {
      "cell_type": "code",
      "metadata": {
        "id": "3w0gcdUgi5Nh",
        "colab_type": "code",
        "colab": {
          "base_uri": "https://localhost:8080/",
          "height": 34
        },
        "outputId": "68596776-c0cd-4f09-858f-cde10c5100c2"
      },
      "source": [
        "df = df.append(df)\n",
        "df.shape"
      ],
      "execution_count": 18,
      "outputs": [
        {
          "output_type": "execute_result",
          "data": {
            "text/plain": [
              "(198, 10)"
            ]
          },
          "metadata": {
            "tags": []
          },
          "execution_count": 18
        }
      ]
    },
    {
      "cell_type": "code",
      "metadata": {
        "id": "OFe-ban_jBYO",
        "colab_type": "code",
        "colab": {
          "base_uri": "https://localhost:8080/",
          "height": 34
        },
        "outputId": "9992e0d1-61c7-4703-fb96-bbca5686792e"
      },
      "source": [
        "df = df.drop_duplicates()\n",
        "df.shape"
      ],
      "execution_count": 20,
      "outputs": [
        {
          "output_type": "execute_result",
          "data": {
            "text/plain": [
              "(99, 10)"
            ]
          },
          "metadata": {
            "tags": []
          },
          "execution_count": 20
        }
      ]
    },
    {
      "cell_type": "code",
      "metadata": {
        "id": "NaRJ9N9CjM76",
        "colab_type": "code",
        "colab": {
          "base_uri": "https://localhost:8080/",
          "height": 34
        },
        "outputId": "d54d484f-fcca-4582-9e5b-09f848f74d06"
      },
      "source": [
        "df = df.append(df)\n",
        "df.shape\n"
      ],
      "execution_count": 22,
      "outputs": [
        {
          "output_type": "execute_result",
          "data": {
            "text/plain": [
              "(198, 10)"
            ]
          },
          "metadata": {
            "tags": []
          },
          "execution_count": 22
        }
      ]
    },
    {
      "cell_type": "code",
      "metadata": {
        "id": "hiXSpOdHja6w",
        "colab_type": "code",
        "colab": {}
      },
      "source": [
        "df.drop_duplicates(inplace=True)"
      ],
      "execution_count": 0,
      "outputs": []
    },
    {
      "cell_type": "code",
      "metadata": {
        "id": "zOw1OQKfjhPR",
        "colab_type": "code",
        "colab": {
          "base_uri": "https://localhost:8080/",
          "height": 34
        },
        "outputId": "a6ef7bb1-dec1-4bcc-a2fc-5f3c305e5da7"
      },
      "source": [
        "df.shape"
      ],
      "execution_count": 24,
      "outputs": [
        {
          "output_type": "execute_result",
          "data": {
            "text/plain": [
              "(99, 10)"
            ]
          },
          "metadata": {
            "tags": []
          },
          "execution_count": 24
        }
      ]
    },
    {
      "cell_type": "code",
      "metadata": {
        "id": "PFZBtmWbnBGV",
        "colab_type": "code",
        "colab": {}
      },
      "source": [
        "df.rename(columns={'hospital_beds':'hbed'},inplace=True)"
      ],
      "execution_count": 0,
      "outputs": []
    },
    {
      "cell_type": "code",
      "metadata": {
        "id": "Lzfo6xVDooVa",
        "colab_type": "code",
        "colab": {}
      },
      "source": [
        "df.columns = [col.upper() for col in df]"
      ],
      "execution_count": 0,
      "outputs": []
    },
    {
      "cell_type": "code",
      "metadata": {
        "id": "8Te1xSUZpVaA",
        "colab_type": "code",
        "colab": {
          "base_uri": "https://localhost:8080/",
          "height": 118
        },
        "outputId": "82a392cc-cb30-4411-9cf8-8ac75c109d8d"
      },
      "source": [
        "region = df['REGION']\n",
        "region.head()"
      ],
      "execution_count": 37,
      "outputs": [
        {
          "output_type": "execute_result",
          "data": {
            "text/plain": [
              "0    1\n",
              "1    2\n",
              "2    1\n",
              "3    2\n",
              "4    4\n",
              "Name: REGION, dtype: int64"
            ]
          },
          "metadata": {
            "tags": []
          },
          "execution_count": 37
        }
      ]
    },
    {
      "cell_type": "code",
      "metadata": {
        "id": "-MlCBYxxnyJ0",
        "colab_type": "code",
        "colab": {
          "base_uri": "https://localhost:8080/",
          "height": 202
        },
        "outputId": "94270fe3-1479-44b9-d5b5-620381b63b72"
      },
      "source": [
        "df.isnull().sum()"
      ],
      "execution_count": 33,
      "outputs": [
        {
          "output_type": "execute_result",
          "data": {
            "text/plain": [
              "LAND_AREA         0\n",
              "PERCENT_CITY      0\n",
              "PERCENT_SENIOR    0\n",
              "PHYSICIANS        0\n",
              "HBED              0\n",
              "GRADUATES         0\n",
              "WORK_FORCE        0\n",
              "INCOME            0\n",
              "REGION            0\n",
              "CRIME_RATE        0\n",
              "dtype: int64"
            ]
          },
          "metadata": {
            "tags": []
          },
          "execution_count": 33
        }
      ]
    },
    {
      "cell_type": "code",
      "metadata": {
        "id": "qwKNE-J1pt_Q",
        "colab_type": "code",
        "colab": {
          "base_uri": "https://localhost:8080/",
          "height": 34
        },
        "outputId": "d7ba5add-2ae9-4338-c2c3-0beb2d838c52"
      },
      "source": [
        "mean_val = region.mean()\n",
        "mean_val"
      ],
      "execution_count": 40,
      "outputs": [
        {
          "output_type": "execute_result",
          "data": {
            "text/plain": [
              "2.494949494949495"
            ]
          },
          "metadata": {
            "tags": []
          },
          "execution_count": 40
        }
      ]
    },
    {
      "cell_type": "code",
      "metadata": {
        "id": "z4QaWZjuqOJd",
        "colab_type": "code",
        "colab": {
          "base_uri": "https://localhost:8080/",
          "height": 284
        },
        "outputId": "24f4c239-0930-4149-d3fd-2da690226c5a"
      },
      "source": [
        "df.describe()"
      ],
      "execution_count": 41,
      "outputs": [
        {
          "output_type": "execute_result",
          "data": {
            "text/html": [
              "<div>\n",
              "<style scoped>\n",
              "    .dataframe tbody tr th:only-of-type {\n",
              "        vertical-align: middle;\n",
              "    }\n",
              "\n",
              "    .dataframe tbody tr th {\n",
              "        vertical-align: top;\n",
              "    }\n",
              "\n",
              "    .dataframe thead th {\n",
              "        text-align: right;\n",
              "    }\n",
              "</style>\n",
              "<table border=\"1\" class=\"dataframe\">\n",
              "  <thead>\n",
              "    <tr style=\"text-align: right;\">\n",
              "      <th></th>\n",
              "      <th>LAND_AREA</th>\n",
              "      <th>PERCENT_CITY</th>\n",
              "      <th>PERCENT_SENIOR</th>\n",
              "      <th>PHYSICIANS</th>\n",
              "      <th>HBED</th>\n",
              "      <th>GRADUATES</th>\n",
              "      <th>WORK_FORCE</th>\n",
              "      <th>INCOME</th>\n",
              "      <th>REGION</th>\n",
              "      <th>CRIME_RATE</th>\n",
              "    </tr>\n",
              "  </thead>\n",
              "  <tbody>\n",
              "    <tr>\n",
              "      <th>count</th>\n",
              "      <td>99.000000</td>\n",
              "      <td>99.000000</td>\n",
              "      <td>99.000000</td>\n",
              "      <td>99.000000</td>\n",
              "      <td>99.000000</td>\n",
              "      <td>99.000000</td>\n",
              "      <td>99.000000</td>\n",
              "      <td>99.000000</td>\n",
              "      <td>99.000000</td>\n",
              "      <td>99.000000</td>\n",
              "    </tr>\n",
              "    <tr>\n",
              "      <th>mean</th>\n",
              "      <td>2615.727273</td>\n",
              "      <td>42.518182</td>\n",
              "      <td>9.781818</td>\n",
              "      <td>1828.333333</td>\n",
              "      <td>6345.868687</td>\n",
              "      <td>54.463636</td>\n",
              "      <td>449.366667</td>\n",
              "      <td>6762.505051</td>\n",
              "      <td>2.494949</td>\n",
              "      <td>55.643030</td>\n",
              "    </tr>\n",
              "    <tr>\n",
              "      <th>std</th>\n",
              "      <td>3045.826210</td>\n",
              "      <td>17.348277</td>\n",
              "      <td>2.524547</td>\n",
              "      <td>3192.199763</td>\n",
              "      <td>9136.202716</td>\n",
              "      <td>7.773286</td>\n",
              "      <td>610.990885</td>\n",
              "      <td>10393.349660</td>\n",
              "      <td>1.013921</td>\n",
              "      <td>13.470943</td>\n",
              "    </tr>\n",
              "    <tr>\n",
              "      <th>min</th>\n",
              "      <td>47.000000</td>\n",
              "      <td>13.400000</td>\n",
              "      <td>3.900000</td>\n",
              "      <td>140.000000</td>\n",
              "      <td>481.000000</td>\n",
              "      <td>30.300000</td>\n",
              "      <td>66.900000</td>\n",
              "      <td>769.000000</td>\n",
              "      <td>1.000000</td>\n",
              "      <td>23.320000</td>\n",
              "    </tr>\n",
              "    <tr>\n",
              "      <th>25%</th>\n",
              "      <td>1408.000000</td>\n",
              "      <td>30.100000</td>\n",
              "      <td>8.350000</td>\n",
              "      <td>459.000000</td>\n",
              "      <td>2390.000000</td>\n",
              "      <td>50.250000</td>\n",
              "      <td>150.300000</td>\n",
              "      <td>2003.000000</td>\n",
              "      <td>2.000000</td>\n",
              "      <td>46.115000</td>\n",
              "    </tr>\n",
              "    <tr>\n",
              "      <th>50%</th>\n",
              "      <td>1951.000000</td>\n",
              "      <td>39.500000</td>\n",
              "      <td>9.700000</td>\n",
              "      <td>774.000000</td>\n",
              "      <td>3472.000000</td>\n",
              "      <td>54.000000</td>\n",
              "      <td>257.200000</td>\n",
              "      <td>3510.000000</td>\n",
              "      <td>3.000000</td>\n",
              "      <td>56.060000</td>\n",
              "    </tr>\n",
              "    <tr>\n",
              "      <th>75%</th>\n",
              "      <td>2890.500000</td>\n",
              "      <td>52.600000</td>\n",
              "      <td>10.750000</td>\n",
              "      <td>1911.500000</td>\n",
              "      <td>6386.500000</td>\n",
              "      <td>58.300000</td>\n",
              "      <td>436.500000</td>\n",
              "      <td>6283.500000</td>\n",
              "      <td>3.000000</td>\n",
              "      <td>63.860000</td>\n",
              "    </tr>\n",
              "    <tr>\n",
              "      <th>max</th>\n",
              "      <td>27293.000000</td>\n",
              "      <td>100.000000</td>\n",
              "      <td>21.800000</td>\n",
              "      <td>25627.000000</td>\n",
              "      <td>69678.000000</td>\n",
              "      <td>72.800000</td>\n",
              "      <td>4083.900000</td>\n",
              "      <td>72100.000000</td>\n",
              "      <td>4.000000</td>\n",
              "      <td>85.620000</td>\n",
              "    </tr>\n",
              "  </tbody>\n",
              "</table>\n",
              "</div>"
            ],
            "text/plain": [
              "          LAND_AREA  PERCENT_CITY  ...     REGION  CRIME_RATE\n",
              "count     99.000000     99.000000  ...  99.000000   99.000000\n",
              "mean    2615.727273     42.518182  ...   2.494949   55.643030\n",
              "std     3045.826210     17.348277  ...   1.013921   13.470943\n",
              "min       47.000000     13.400000  ...   1.000000   23.320000\n",
              "25%     1408.000000     30.100000  ...   2.000000   46.115000\n",
              "50%     1951.000000     39.500000  ...   3.000000   56.060000\n",
              "75%     2890.500000     52.600000  ...   3.000000   63.860000\n",
              "max    27293.000000    100.000000  ...   4.000000   85.620000\n",
              "\n",
              "[8 rows x 10 columns]"
            ]
          },
          "metadata": {
            "tags": []
          },
          "execution_count": 41
        }
      ]
    },
    {
      "cell_type": "code",
      "metadata": {
        "id": "uTJYno7_qnak",
        "colab_type": "code",
        "colab": {
          "base_uri": "https://localhost:8080/",
          "height": 168
        },
        "outputId": "0226cdc7-b25d-47da-d175-3af0e2e0209b"
      },
      "source": [
        "df['LAND_AREA'].describe()"
      ],
      "execution_count": 42,
      "outputs": [
        {
          "output_type": "execute_result",
          "data": {
            "text/plain": [
              "count       99.000000\n",
              "mean      2615.727273\n",
              "std       3045.826210\n",
              "min         47.000000\n",
              "25%       1408.000000\n",
              "50%       1951.000000\n",
              "75%       2890.500000\n",
              "max      27293.000000\n",
              "Name: LAND_AREA, dtype: float64"
            ]
          },
          "metadata": {
            "tags": []
          },
          "execution_count": 42
        }
      ]
    },
    {
      "cell_type": "code",
      "metadata": {
        "id": "3q8vngAjq1S0",
        "colab_type": "code",
        "colab": {
          "base_uri": "https://localhost:8080/",
          "height": 343
        },
        "outputId": "85901600-351c-47f6-e95b-45781035e232"
      },
      "source": [
        "df.corr()"
      ],
      "execution_count": 45,
      "outputs": [
        {
          "output_type": "execute_result",
          "data": {
            "text/html": [
              "<div>\n",
              "<style scoped>\n",
              "    .dataframe tbody tr th:only-of-type {\n",
              "        vertical-align: middle;\n",
              "    }\n",
              "\n",
              "    .dataframe tbody tr th {\n",
              "        vertical-align: top;\n",
              "    }\n",
              "\n",
              "    .dataframe thead th {\n",
              "        text-align: right;\n",
              "    }\n",
              "</style>\n",
              "<table border=\"1\" class=\"dataframe\">\n",
              "  <thead>\n",
              "    <tr style=\"text-align: right;\">\n",
              "      <th></th>\n",
              "      <th>LAND_AREA</th>\n",
              "      <th>PERCENT_CITY</th>\n",
              "      <th>PERCENT_SENIOR</th>\n",
              "      <th>PHYSICIANS</th>\n",
              "      <th>HBED</th>\n",
              "      <th>GRADUATES</th>\n",
              "      <th>WORK_FORCE</th>\n",
              "      <th>INCOME</th>\n",
              "      <th>REGION</th>\n",
              "      <th>CRIME_RATE</th>\n",
              "    </tr>\n",
              "  </thead>\n",
              "  <tbody>\n",
              "    <tr>\n",
              "      <th>LAND_AREA</th>\n",
              "      <td>1.000000</td>\n",
              "      <td>-0.077320</td>\n",
              "      <td>0.092226</td>\n",
              "      <td>0.085054</td>\n",
              "      <td>0.081034</td>\n",
              "      <td>0.088728</td>\n",
              "      <td>0.135792</td>\n",
              "      <td>0.111404</td>\n",
              "      <td>0.292392</td>\n",
              "      <td>0.293907</td>\n",
              "    </tr>\n",
              "    <tr>\n",
              "      <th>PERCENT_CITY</th>\n",
              "      <td>-0.077320</td>\n",
              "      <td>1.000000</td>\n",
              "      <td>-0.250995</td>\n",
              "      <td>0.067391</td>\n",
              "      <td>0.052898</td>\n",
              "      <td>0.076720</td>\n",
              "      <td>0.016011</td>\n",
              "      <td>0.019235</td>\n",
              "      <td>0.235880</td>\n",
              "      <td>0.159596</td>\n",
              "    </tr>\n",
              "    <tr>\n",
              "      <th>PERCENT_SENIOR</th>\n",
              "      <td>0.092226</td>\n",
              "      <td>-0.250995</td>\n",
              "      <td>1.000000</td>\n",
              "      <td>0.056454</td>\n",
              "      <td>0.083775</td>\n",
              "      <td>-0.155695</td>\n",
              "      <td>0.035240</td>\n",
              "      <td>0.046073</td>\n",
              "      <td>-0.242811</td>\n",
              "      <td>-0.177992</td>\n",
              "    </tr>\n",
              "    <tr>\n",
              "      <th>PHYSICIANS</th>\n",
              "      <td>0.085054</td>\n",
              "      <td>0.067391</td>\n",
              "      <td>0.056454</td>\n",
              "      <td>1.000000</td>\n",
              "      <td>0.974241</td>\n",
              "      <td>0.049500</td>\n",
              "      <td>0.965597</td>\n",
              "      <td>0.976209</td>\n",
              "      <td>-0.140961</td>\n",
              "      <td>0.187763</td>\n",
              "    </tr>\n",
              "    <tr>\n",
              "      <th>HBED</th>\n",
              "      <td>0.081034</td>\n",
              "      <td>0.052898</td>\n",
              "      <td>0.083775</td>\n",
              "      <td>0.974241</td>\n",
              "      <td>1.000000</td>\n",
              "      <td>-0.003892</td>\n",
              "      <td>0.967913</td>\n",
              "      <td>0.974416</td>\n",
              "      <td>-0.220305</td>\n",
              "      <td>0.109799</td>\n",
              "    </tr>\n",
              "    <tr>\n",
              "      <th>GRADUATES</th>\n",
              "      <td>0.088728</td>\n",
              "      <td>0.076720</td>\n",
              "      <td>-0.155695</td>\n",
              "      <td>0.049500</td>\n",
              "      <td>-0.003892</td>\n",
              "      <td>1.000000</td>\n",
              "      <td>0.044054</td>\n",
              "      <td>0.045578</td>\n",
              "      <td>0.246226</td>\n",
              "      <td>0.290880</td>\n",
              "    </tr>\n",
              "    <tr>\n",
              "      <th>WORK_FORCE</th>\n",
              "      <td>0.135792</td>\n",
              "      <td>0.016011</td>\n",
              "      <td>0.035240</td>\n",
              "      <td>0.965597</td>\n",
              "      <td>0.967913</td>\n",
              "      <td>0.044054</td>\n",
              "      <td>1.000000</td>\n",
              "      <td>0.996735</td>\n",
              "      <td>-0.144022</td>\n",
              "      <td>0.175945</td>\n",
              "    </tr>\n",
              "    <tr>\n",
              "      <th>INCOME</th>\n",
              "      <td>0.111404</td>\n",
              "      <td>0.019235</td>\n",
              "      <td>0.046073</td>\n",
              "      <td>0.976209</td>\n",
              "      <td>0.974416</td>\n",
              "      <td>0.045578</td>\n",
              "      <td>0.996735</td>\n",
              "      <td>1.000000</td>\n",
              "      <td>-0.152016</td>\n",
              "      <td>0.175797</td>\n",
              "    </tr>\n",
              "    <tr>\n",
              "      <th>REGION</th>\n",
              "      <td>0.292392</td>\n",
              "      <td>0.235880</td>\n",
              "      <td>-0.242811</td>\n",
              "      <td>-0.140961</td>\n",
              "      <td>-0.220305</td>\n",
              "      <td>0.246226</td>\n",
              "      <td>-0.144022</td>\n",
              "      <td>-0.152016</td>\n",
              "      <td>1.000000</td>\n",
              "      <td>0.636192</td>\n",
              "    </tr>\n",
              "    <tr>\n",
              "      <th>CRIME_RATE</th>\n",
              "      <td>0.293907</td>\n",
              "      <td>0.159596</td>\n",
              "      <td>-0.177992</td>\n",
              "      <td>0.187763</td>\n",
              "      <td>0.109799</td>\n",
              "      <td>0.290880</td>\n",
              "      <td>0.175945</td>\n",
              "      <td>0.175797</td>\n",
              "      <td>0.636192</td>\n",
              "      <td>1.000000</td>\n",
              "    </tr>\n",
              "  </tbody>\n",
              "</table>\n",
              "</div>"
            ],
            "text/plain": [
              "                LAND_AREA  PERCENT_CITY  ...    REGION  CRIME_RATE\n",
              "LAND_AREA        1.000000     -0.077320  ...  0.292392    0.293907\n",
              "PERCENT_CITY    -0.077320      1.000000  ...  0.235880    0.159596\n",
              "PERCENT_SENIOR   0.092226     -0.250995  ... -0.242811   -0.177992\n",
              "PHYSICIANS       0.085054      0.067391  ... -0.140961    0.187763\n",
              "HBED             0.081034      0.052898  ... -0.220305    0.109799\n",
              "GRADUATES        0.088728      0.076720  ...  0.246226    0.290880\n",
              "WORK_FORCE       0.135792      0.016011  ... -0.144022    0.175945\n",
              "INCOME           0.111404      0.019235  ... -0.152016    0.175797\n",
              "REGION           0.292392      0.235880  ...  1.000000    0.636192\n",
              "CRIME_RATE       0.293907      0.159596  ...  0.636192    1.000000\n",
              "\n",
              "[10 rows x 10 columns]"
            ]
          },
          "metadata": {
            "tags": []
          },
          "execution_count": 45
        }
      ]
    },
    {
      "cell_type": "code",
      "metadata": {
        "id": "1hw_T-MAsH91",
        "colab_type": "code",
        "colab": {
          "base_uri": "https://localhost:8080/",
          "height": 136
        },
        "outputId": "c8d5c05c-bc38-4867-f9c2-2be899266f9a"
      },
      "source": [
        "result = df.iloc[1:4]\n",
        "result"
      ],
      "execution_count": 51,
      "outputs": [
        {
          "output_type": "execute_result",
          "data": {
            "text/html": [
              "<div>\n",
              "<style scoped>\n",
              "    .dataframe tbody tr th:only-of-type {\n",
              "        vertical-align: middle;\n",
              "    }\n",
              "\n",
              "    .dataframe tbody tr th {\n",
              "        vertical-align: top;\n",
              "    }\n",
              "\n",
              "    .dataframe thead th {\n",
              "        text-align: right;\n",
              "    }\n",
              "</style>\n",
              "<table border=\"1\" class=\"dataframe\">\n",
              "  <thead>\n",
              "    <tr style=\"text-align: right;\">\n",
              "      <th></th>\n",
              "      <th>LAND_AREA</th>\n",
              "      <th>PERCENT_CITY</th>\n",
              "      <th>PERCENT_SENIOR</th>\n",
              "      <th>PHYSICIANS</th>\n",
              "      <th>HBED</th>\n",
              "      <th>GRADUATES</th>\n",
              "      <th>WORK_FORCE</th>\n",
              "      <th>INCOME</th>\n",
              "      <th>REGION</th>\n",
              "      <th>CRIME_RATE</th>\n",
              "    </tr>\n",
              "  </thead>\n",
              "  <tbody>\n",
              "    <tr>\n",
              "      <th>1</th>\n",
              "      <td>3719</td>\n",
              "      <td>43.9</td>\n",
              "      <td>9.4</td>\n",
              "      <td>13326</td>\n",
              "      <td>43292</td>\n",
              "      <td>53.9</td>\n",
              "      <td>3305.9</td>\n",
              "      <td>54542</td>\n",
              "      <td>2</td>\n",
              "      <td>56.03</td>\n",
              "    </tr>\n",
              "    <tr>\n",
              "      <th>2</th>\n",
              "      <td>3553</td>\n",
              "      <td>37.4</td>\n",
              "      <td>10.7</td>\n",
              "      <td>9724</td>\n",
              "      <td>33731</td>\n",
              "      <td>50.6</td>\n",
              "      <td>2066.3</td>\n",
              "      <td>33216</td>\n",
              "      <td>1</td>\n",
              "      <td>41.32</td>\n",
              "    </tr>\n",
              "    <tr>\n",
              "      <th>3</th>\n",
              "      <td>3916</td>\n",
              "      <td>29.9</td>\n",
              "      <td>8.8</td>\n",
              "      <td>6402</td>\n",
              "      <td>24167</td>\n",
              "      <td>52.2</td>\n",
              "      <td>1966.7</td>\n",
              "      <td>32906</td>\n",
              "      <td>2</td>\n",
              "      <td>67.38</td>\n",
              "    </tr>\n",
              "  </tbody>\n",
              "</table>\n",
              "</div>"
            ],
            "text/plain": [
              "   LAND_AREA  PERCENT_CITY  PERCENT_SENIOR  ...  INCOME  REGION  CRIME_RATE\n",
              "1       3719          43.9             9.4  ...   54542       2       56.03\n",
              "2       3553          37.4            10.7  ...   33216       1       41.32\n",
              "3       3916          29.9             8.8  ...   32906       2       67.38\n",
              "\n",
              "[3 rows x 10 columns]"
            ]
          },
          "metadata": {
            "tags": []
          },
          "execution_count": 51
        }
      ]
    },
    {
      "cell_type": "code",
      "metadata": {
        "id": "kZb9JDZCtB31",
        "colab_type": "code",
        "colab": {
          "base_uri": "https://localhost:8080/",
          "height": 787
        },
        "outputId": "05e3a8b1-88d8-4f95-84fd-61d13d1bc481"
      },
      "source": [
        "df[df['REGION']==2]"
      ],
      "execution_count": 54,
      "outputs": [
        {
          "output_type": "execute_result",
          "data": {
            "text/html": [
              "<div>\n",
              "<style scoped>\n",
              "    .dataframe tbody tr th:only-of-type {\n",
              "        vertical-align: middle;\n",
              "    }\n",
              "\n",
              "    .dataframe tbody tr th {\n",
              "        vertical-align: top;\n",
              "    }\n",
              "\n",
              "    .dataframe thead th {\n",
              "        text-align: right;\n",
              "    }\n",
              "</style>\n",
              "<table border=\"1\" class=\"dataframe\">\n",
              "  <thead>\n",
              "    <tr style=\"text-align: right;\">\n",
              "      <th></th>\n",
              "      <th>LAND_AREA</th>\n",
              "      <th>PERCENT_CITY</th>\n",
              "      <th>PERCENT_SENIOR</th>\n",
              "      <th>PHYSICIANS</th>\n",
              "      <th>HBED</th>\n",
              "      <th>GRADUATES</th>\n",
              "      <th>WORK_FORCE</th>\n",
              "      <th>INCOME</th>\n",
              "      <th>REGION</th>\n",
              "      <th>CRIME_RATE</th>\n",
              "    </tr>\n",
              "  </thead>\n",
              "  <tbody>\n",
              "    <tr>\n",
              "      <th>1</th>\n",
              "      <td>3719</td>\n",
              "      <td>43.9</td>\n",
              "      <td>9.4</td>\n",
              "      <td>13326</td>\n",
              "      <td>43292</td>\n",
              "      <td>53.9</td>\n",
              "      <td>3305.9</td>\n",
              "      <td>54542</td>\n",
              "      <td>2</td>\n",
              "      <td>56.03</td>\n",
              "    </tr>\n",
              "    <tr>\n",
              "      <th>3</th>\n",
              "      <td>3916</td>\n",
              "      <td>29.9</td>\n",
              "      <td>8.8</td>\n",
              "      <td>6402</td>\n",
              "      <td>24167</td>\n",
              "      <td>52.2</td>\n",
              "      <td>1966.7</td>\n",
              "      <td>32906</td>\n",
              "      <td>2</td>\n",
              "      <td>67.38</td>\n",
              "    </tr>\n",
              "    <tr>\n",
              "      <th>9</th>\n",
              "      <td>4647</td>\n",
              "      <td>31.5</td>\n",
              "      <td>9.2</td>\n",
              "      <td>3916</td>\n",
              "      <td>12815</td>\n",
              "      <td>65.1</td>\n",
              "      <td>1032.2</td>\n",
              "      <td>14542</td>\n",
              "      <td>2</td>\n",
              "      <td>55.30</td>\n",
              "    </tr>\n",
              "    <tr>\n",
              "      <th>11</th>\n",
              "      <td>1519</td>\n",
              "      <td>31.8</td>\n",
              "      <td>10.5</td>\n",
              "      <td>4094</td>\n",
              "      <td>12545</td>\n",
              "      <td>54.6</td>\n",
              "      <td>906.0</td>\n",
              "      <td>14684</td>\n",
              "      <td>2</td>\n",
              "      <td>52.73</td>\n",
              "    </tr>\n",
              "    <tr>\n",
              "      <th>15</th>\n",
              "      <td>1456</td>\n",
              "      <td>46.7</td>\n",
              "      <td>10.4</td>\n",
              "      <td>2484</td>\n",
              "      <td>8555</td>\n",
              "      <td>56.8</td>\n",
              "      <td>710.4</td>\n",
              "      <td>10104</td>\n",
              "      <td>2</td>\n",
              "      <td>44.64</td>\n",
              "    </tr>\n",
              "    <tr>\n",
              "      <th>17</th>\n",
              "      <td>2149</td>\n",
              "      <td>29.8</td>\n",
              "      <td>10.6</td>\n",
              "      <td>2530</td>\n",
              "      <td>8354</td>\n",
              "      <td>48.4</td>\n",
              "      <td>617.6</td>\n",
              "      <td>9037</td>\n",
              "      <td>2</td>\n",
              "      <td>49.69</td>\n",
              "    </tr>\n",
              "    <tr>\n",
              "      <th>19</th>\n",
              "      <td>3341</td>\n",
              "      <td>35.8</td>\n",
              "      <td>10.1</td>\n",
              "      <td>2289</td>\n",
              "      <td>7593</td>\n",
              "      <td>59.9</td>\n",
              "      <td>656.3</td>\n",
              "      <td>9106</td>\n",
              "      <td>2</td>\n",
              "      <td>63.04</td>\n",
              "    </tr>\n",
              "    <tr>\n",
              "      <th>21</th>\n",
              "      <td>3072</td>\n",
              "      <td>68.0</td>\n",
              "      <td>9.3</td>\n",
              "      <td>2181</td>\n",
              "      <td>7497</td>\n",
              "      <td>56.0</td>\n",
              "      <td>549.6</td>\n",
              "      <td>7736</td>\n",
              "      <td>2</td>\n",
              "      <td>53.65</td>\n",
              "    </tr>\n",
              "    <tr>\n",
              "      <th>23</th>\n",
              "      <td>2460</td>\n",
              "      <td>49.6</td>\n",
              "      <td>8.4</td>\n",
              "      <td>1874</td>\n",
              "      <td>7706</td>\n",
              "      <td>59.9</td>\n",
              "      <td>510.7</td>\n",
              "      <td>6658</td>\n",
              "      <td>2</td>\n",
              "      <td>57.59</td>\n",
              "    </tr>\n",
              "    <tr>\n",
              "      <th>29</th>\n",
              "      <td>2187</td>\n",
              "      <td>47.0</td>\n",
              "      <td>10.2</td>\n",
              "      <td>1098</td>\n",
              "      <td>4342</td>\n",
              "      <td>51.9</td>\n",
              "      <td>355.4</td>\n",
              "      <td>5142</td>\n",
              "      <td>2</td>\n",
              "      <td>59.48</td>\n",
              "    </tr>\n",
              "    <tr>\n",
              "      <th>35</th>\n",
              "      <td>903</td>\n",
              "      <td>37.3</td>\n",
              "      <td>9.6</td>\n",
              "      <td>948</td>\n",
              "      <td>4064</td>\n",
              "      <td>55.6</td>\n",
              "      <td>293.3</td>\n",
              "      <td>4102</td>\n",
              "      <td>2</td>\n",
              "      <td>52.53</td>\n",
              "    </tr>\n",
              "    <tr>\n",
              "      <th>37</th>\n",
              "      <td>938</td>\n",
              "      <td>48.1</td>\n",
              "      <td>7.4</td>\n",
              "      <td>614</td>\n",
              "      <td>3016</td>\n",
              "      <td>50.0</td>\n",
              "      <td>280.9</td>\n",
              "      <td>4177</td>\n",
              "      <td>2</td>\n",
              "      <td>54.51</td>\n",
              "    </tr>\n",
              "    <tr>\n",
              "      <th>44</th>\n",
              "      <td>1537</td>\n",
              "      <td>63.8</td>\n",
              "      <td>8.7</td>\n",
              "      <td>1234</td>\n",
              "      <td>5160</td>\n",
              "      <td>62.7</td>\n",
              "      <td>272.6</td>\n",
              "      <td>3725</td>\n",
              "      <td>2</td>\n",
              "      <td>55.54</td>\n",
              "    </tr>\n",
              "    <tr>\n",
              "      <th>45</th>\n",
              "      <td>1420</td>\n",
              "      <td>32.6</td>\n",
              "      <td>9.5</td>\n",
              "      <td>833</td>\n",
              "      <td>2950</td>\n",
              "      <td>54.0</td>\n",
              "      <td>280.8</td>\n",
              "      <td>3553</td>\n",
              "      <td>2</td>\n",
              "      <td>46.26</td>\n",
              "    </tr>\n",
              "    <tr>\n",
              "      <th>48</th>\n",
              "      <td>1182</td>\n",
              "      <td>32.4</td>\n",
              "      <td>7.4</td>\n",
              "      <td>518</td>\n",
              "      <td>2515</td>\n",
              "      <td>52.4</td>\n",
              "      <td>216.8</td>\n",
              "      <td>3627</td>\n",
              "      <td>2</td>\n",
              "      <td>68.48</td>\n",
              "    </tr>\n",
              "    <tr>\n",
              "      <th>56</th>\n",
              "      <td>2277</td>\n",
              "      <td>39.5</td>\n",
              "      <td>7.5</td>\n",
              "      <td>512</td>\n",
              "      <td>1788</td>\n",
              "      <td>61.9</td>\n",
              "      <td>221.1</td>\n",
              "      <td>2853</td>\n",
              "      <td>2</td>\n",
              "      <td>44.07</td>\n",
              "    </tr>\n",
              "    <tr>\n",
              "      <th>61</th>\n",
              "      <td>2449</td>\n",
              "      <td>68.4</td>\n",
              "      <td>9.6</td>\n",
              "      <td>681</td>\n",
              "      <td>2864</td>\n",
              "      <td>63.2</td>\n",
              "      <td>207.4</td>\n",
              "      <td>2651</td>\n",
              "      <td>2</td>\n",
              "      <td>63.67</td>\n",
              "    </tr>\n",
              "    <tr>\n",
              "      <th>64</th>\n",
              "      <td>1704</td>\n",
              "      <td>52.1</td>\n",
              "      <td>10.5</td>\n",
              "      <td>379</td>\n",
              "      <td>2491</td>\n",
              "      <td>55.6</td>\n",
              "      <td>173.2</td>\n",
              "      <td>2662</td>\n",
              "      <td>2</td>\n",
              "      <td>49.60</td>\n",
              "    </tr>\n",
              "    <tr>\n",
              "      <th>65</th>\n",
              "      <td>1750</td>\n",
              "      <td>49.3</td>\n",
              "      <td>9.7</td>\n",
              "      <td>446</td>\n",
              "      <td>3472</td>\n",
              "      <td>58.2</td>\n",
              "      <td>176.5</td>\n",
              "      <td>2439</td>\n",
              "      <td>2</td>\n",
              "      <td>44.67</td>\n",
              "    </tr>\n",
              "    <tr>\n",
              "      <th>71</th>\n",
              "      <td>1136</td>\n",
              "      <td>58.6</td>\n",
              "      <td>9.7</td>\n",
              "      <td>448</td>\n",
              "      <td>2630</td>\n",
              "      <td>68.1</td>\n",
              "      <td>171.4</td>\n",
              "      <td>2396</td>\n",
              "      <td>2</td>\n",
              "      <td>61.46</td>\n",
              "    </tr>\n",
              "    <tr>\n",
              "      <th>82</th>\n",
              "      <td>1975</td>\n",
              "      <td>46.5</td>\n",
              "      <td>12.6</td>\n",
              "      <td>405</td>\n",
              "      <td>2896</td>\n",
              "      <td>51.5</td>\n",
              "      <td>133.8</td>\n",
              "      <td>1853</td>\n",
              "      <td>2</td>\n",
              "      <td>43.94</td>\n",
              "    </tr>\n",
              "    <tr>\n",
              "      <th>83</th>\n",
              "      <td>1404</td>\n",
              "      <td>38.5</td>\n",
              "      <td>10.0</td>\n",
              "      <td>299</td>\n",
              "      <td>1766</td>\n",
              "      <td>56.2</td>\n",
              "      <td>138.6</td>\n",
              "      <td>1776</td>\n",
              "      <td>2</td>\n",
              "      <td>40.54</td>\n",
              "    </tr>\n",
              "    <tr>\n",
              "      <th>87</th>\n",
              "      <td>7397</td>\n",
              "      <td>47.3</td>\n",
              "      <td>12.5</td>\n",
              "      <td>355</td>\n",
              "      <td>2042</td>\n",
              "      <td>56.2</td>\n",
              "      <td>113.7</td>\n",
              "      <td>1654</td>\n",
              "      <td>2</td>\n",
              "      <td>45.97</td>\n",
              "    </tr>\n",
              "    <tr>\n",
              "      <th>91</th>\n",
              "      <td>711</td>\n",
              "      <td>42.4</td>\n",
              "      <td>6.1</td>\n",
              "      <td>1411</td>\n",
              "      <td>3659</td>\n",
              "      <td>67.5</td>\n",
              "      <td>131.0</td>\n",
              "      <td>1790</td>\n",
              "      <td>2</td>\n",
              "      <td>64.91</td>\n",
              "    </tr>\n",
              "    <tr>\n",
              "      <th>92</th>\n",
              "      <td>471</td>\n",
              "      <td>46.3</td>\n",
              "      <td>8.6</td>\n",
              "      <td>219</td>\n",
              "      <td>1128</td>\n",
              "      <td>47.8</td>\n",
              "      <td>105.3</td>\n",
              "      <td>1458</td>\n",
              "      <td>2</td>\n",
              "      <td>53.68</td>\n",
              "    </tr>\n",
              "  </tbody>\n",
              "</table>\n",
              "</div>"
            ],
            "text/plain": [
              "    LAND_AREA  PERCENT_CITY  PERCENT_SENIOR  ...  INCOME  REGION  CRIME_RATE\n",
              "1        3719          43.9             9.4  ...   54542       2       56.03\n",
              "3        3916          29.9             8.8  ...   32906       2       67.38\n",
              "9        4647          31.5             9.2  ...   14542       2       55.30\n",
              "11       1519          31.8            10.5  ...   14684       2       52.73\n",
              "15       1456          46.7            10.4  ...   10104       2       44.64\n",
              "17       2149          29.8            10.6  ...    9037       2       49.69\n",
              "19       3341          35.8            10.1  ...    9106       2       63.04\n",
              "21       3072          68.0             9.3  ...    7736       2       53.65\n",
              "23       2460          49.6             8.4  ...    6658       2       57.59\n",
              "29       2187          47.0            10.2  ...    5142       2       59.48\n",
              "35        903          37.3             9.6  ...    4102       2       52.53\n",
              "37        938          48.1             7.4  ...    4177       2       54.51\n",
              "44       1537          63.8             8.7  ...    3725       2       55.54\n",
              "45       1420          32.6             9.5  ...    3553       2       46.26\n",
              "48       1182          32.4             7.4  ...    3627       2       68.48\n",
              "56       2277          39.5             7.5  ...    2853       2       44.07\n",
              "61       2449          68.4             9.6  ...    2651       2       63.67\n",
              "64       1704          52.1            10.5  ...    2662       2       49.60\n",
              "65       1750          49.3             9.7  ...    2439       2       44.67\n",
              "71       1136          58.6             9.7  ...    2396       2       61.46\n",
              "82       1975          46.5            12.6  ...    1853       2       43.94\n",
              "83       1404          38.5            10.0  ...    1776       2       40.54\n",
              "87       7397          47.3            12.5  ...    1654       2       45.97\n",
              "91        711          42.4             6.1  ...    1790       2       64.91\n",
              "92        471          46.3             8.6  ...    1458       2       53.68\n",
              "\n",
              "[25 rows x 10 columns]"
            ]
          },
          "metadata": {
            "tags": []
          },
          "execution_count": 54
        }
      ]
    },
    {
      "cell_type": "code",
      "metadata": {
        "id": "qBPTWWGbtnZD",
        "colab_type": "code",
        "colab": {
          "base_uri": "https://localhost:8080/",
          "height": 195
        },
        "outputId": "9495b092-0b2e-4a5d-882c-b58c69a7bfd7"
      },
      "source": [
        "def rating_function(x):\n",
        "    if x >= 2:\n",
        "        return \"good\"\n",
        "    else:\n",
        "        return \"bad\"\n",
        "\n",
        "df['REGION'] = df['REGION'].apply(rating_function)\n",
        "df.head()"
      ],
      "execution_count": 55,
      "outputs": [
        {
          "output_type": "execute_result",
          "data": {
            "text/html": [
              "<div>\n",
              "<style scoped>\n",
              "    .dataframe tbody tr th:only-of-type {\n",
              "        vertical-align: middle;\n",
              "    }\n",
              "\n",
              "    .dataframe tbody tr th {\n",
              "        vertical-align: top;\n",
              "    }\n",
              "\n",
              "    .dataframe thead th {\n",
              "        text-align: right;\n",
              "    }\n",
              "</style>\n",
              "<table border=\"1\" class=\"dataframe\">\n",
              "  <thead>\n",
              "    <tr style=\"text-align: right;\">\n",
              "      <th></th>\n",
              "      <th>LAND_AREA</th>\n",
              "      <th>PERCENT_CITY</th>\n",
              "      <th>PERCENT_SENIOR</th>\n",
              "      <th>PHYSICIANS</th>\n",
              "      <th>HBED</th>\n",
              "      <th>GRADUATES</th>\n",
              "      <th>WORK_FORCE</th>\n",
              "      <th>INCOME</th>\n",
              "      <th>REGION</th>\n",
              "      <th>CRIME_RATE</th>\n",
              "    </tr>\n",
              "  </thead>\n",
              "  <tbody>\n",
              "    <tr>\n",
              "      <th>0</th>\n",
              "      <td>1384</td>\n",
              "      <td>78.1</td>\n",
              "      <td>12.3</td>\n",
              "      <td>25627</td>\n",
              "      <td>69678</td>\n",
              "      <td>50.1</td>\n",
              "      <td>4083.9</td>\n",
              "      <td>72100</td>\n",
              "      <td>bad</td>\n",
              "      <td>75.55</td>\n",
              "    </tr>\n",
              "    <tr>\n",
              "      <th>1</th>\n",
              "      <td>3719</td>\n",
              "      <td>43.9</td>\n",
              "      <td>9.4</td>\n",
              "      <td>13326</td>\n",
              "      <td>43292</td>\n",
              "      <td>53.9</td>\n",
              "      <td>3305.9</td>\n",
              "      <td>54542</td>\n",
              "      <td>good</td>\n",
              "      <td>56.03</td>\n",
              "    </tr>\n",
              "    <tr>\n",
              "      <th>2</th>\n",
              "      <td>3553</td>\n",
              "      <td>37.4</td>\n",
              "      <td>10.7</td>\n",
              "      <td>9724</td>\n",
              "      <td>33731</td>\n",
              "      <td>50.6</td>\n",
              "      <td>2066.3</td>\n",
              "      <td>33216</td>\n",
              "      <td>bad</td>\n",
              "      <td>41.32</td>\n",
              "    </tr>\n",
              "    <tr>\n",
              "      <th>3</th>\n",
              "      <td>3916</td>\n",
              "      <td>29.9</td>\n",
              "      <td>8.8</td>\n",
              "      <td>6402</td>\n",
              "      <td>24167</td>\n",
              "      <td>52.2</td>\n",
              "      <td>1966.7</td>\n",
              "      <td>32906</td>\n",
              "      <td>good</td>\n",
              "      <td>67.38</td>\n",
              "    </tr>\n",
              "    <tr>\n",
              "      <th>4</th>\n",
              "      <td>2480</td>\n",
              "      <td>31.5</td>\n",
              "      <td>10.5</td>\n",
              "      <td>8502</td>\n",
              "      <td>16751</td>\n",
              "      <td>66.1</td>\n",
              "      <td>1514.5</td>\n",
              "      <td>26573</td>\n",
              "      <td>good</td>\n",
              "      <td>80.19</td>\n",
              "    </tr>\n",
              "  </tbody>\n",
              "</table>\n",
              "</div>"
            ],
            "text/plain": [
              "   LAND_AREA  PERCENT_CITY  PERCENT_SENIOR  ...  INCOME  REGION  CRIME_RATE\n",
              "0       1384          78.1            12.3  ...   72100     bad       75.55\n",
              "1       3719          43.9             9.4  ...   54542    good       56.03\n",
              "2       3553          37.4            10.7  ...   33216     bad       41.32\n",
              "3       3916          29.9             8.8  ...   32906    good       67.38\n",
              "4       2480          31.5            10.5  ...   26573    good       80.19\n",
              "\n",
              "[5 rows x 10 columns]"
            ]
          },
          "metadata": {
            "tags": []
          },
          "execution_count": 55
        }
      ]
    },
    {
      "cell_type": "code",
      "metadata": {
        "id": "X7-uOV6wvPdN",
        "colab_type": "code",
        "colab": {
          "base_uri": "https://localhost:8080/",
          "height": 402
        },
        "outputId": "5ba7afdf-b6e5-4056-ca1f-c7b18360877d"
      },
      "source": [
        "df"
      ],
      "execution_count": 56,
      "outputs": [
        {
          "output_type": "execute_result",
          "data": {
            "text/html": [
              "<div>\n",
              "<style scoped>\n",
              "    .dataframe tbody tr th:only-of-type {\n",
              "        vertical-align: middle;\n",
              "    }\n",
              "\n",
              "    .dataframe tbody tr th {\n",
              "        vertical-align: top;\n",
              "    }\n",
              "\n",
              "    .dataframe thead th {\n",
              "        text-align: right;\n",
              "    }\n",
              "</style>\n",
              "<table border=\"1\" class=\"dataframe\">\n",
              "  <thead>\n",
              "    <tr style=\"text-align: right;\">\n",
              "      <th></th>\n",
              "      <th>LAND_AREA</th>\n",
              "      <th>PERCENT_CITY</th>\n",
              "      <th>PERCENT_SENIOR</th>\n",
              "      <th>PHYSICIANS</th>\n",
              "      <th>HBED</th>\n",
              "      <th>GRADUATES</th>\n",
              "      <th>WORK_FORCE</th>\n",
              "      <th>INCOME</th>\n",
              "      <th>REGION</th>\n",
              "      <th>CRIME_RATE</th>\n",
              "    </tr>\n",
              "  </thead>\n",
              "  <tbody>\n",
              "    <tr>\n",
              "      <th>0</th>\n",
              "      <td>1384</td>\n",
              "      <td>78.1</td>\n",
              "      <td>12.3</td>\n",
              "      <td>25627</td>\n",
              "      <td>69678</td>\n",
              "      <td>50.1</td>\n",
              "      <td>4083.9</td>\n",
              "      <td>72100</td>\n",
              "      <td>bad</td>\n",
              "      <td>75.55</td>\n",
              "    </tr>\n",
              "    <tr>\n",
              "      <th>1</th>\n",
              "      <td>3719</td>\n",
              "      <td>43.9</td>\n",
              "      <td>9.4</td>\n",
              "      <td>13326</td>\n",
              "      <td>43292</td>\n",
              "      <td>53.9</td>\n",
              "      <td>3305.9</td>\n",
              "      <td>54542</td>\n",
              "      <td>good</td>\n",
              "      <td>56.03</td>\n",
              "    </tr>\n",
              "    <tr>\n",
              "      <th>2</th>\n",
              "      <td>3553</td>\n",
              "      <td>37.4</td>\n",
              "      <td>10.7</td>\n",
              "      <td>9724</td>\n",
              "      <td>33731</td>\n",
              "      <td>50.6</td>\n",
              "      <td>2066.3</td>\n",
              "      <td>33216</td>\n",
              "      <td>bad</td>\n",
              "      <td>41.32</td>\n",
              "    </tr>\n",
              "    <tr>\n",
              "      <th>3</th>\n",
              "      <td>3916</td>\n",
              "      <td>29.9</td>\n",
              "      <td>8.8</td>\n",
              "      <td>6402</td>\n",
              "      <td>24167</td>\n",
              "      <td>52.2</td>\n",
              "      <td>1966.7</td>\n",
              "      <td>32906</td>\n",
              "      <td>good</td>\n",
              "      <td>67.38</td>\n",
              "    </tr>\n",
              "    <tr>\n",
              "      <th>4</th>\n",
              "      <td>2480</td>\n",
              "      <td>31.5</td>\n",
              "      <td>10.5</td>\n",
              "      <td>8502</td>\n",
              "      <td>16751</td>\n",
              "      <td>66.1</td>\n",
              "      <td>1514.5</td>\n",
              "      <td>26573</td>\n",
              "      <td>good</td>\n",
              "      <td>80.19</td>\n",
              "    </tr>\n",
              "    <tr>\n",
              "      <th>...</th>\n",
              "      <td>...</td>\n",
              "      <td>...</td>\n",
              "      <td>...</td>\n",
              "      <td>...</td>\n",
              "      <td>...</td>\n",
              "      <td>...</td>\n",
              "      <td>...</td>\n",
              "      <td>...</td>\n",
              "      <td>...</td>\n",
              "      <td>...</td>\n",
              "    </tr>\n",
              "    <tr>\n",
              "      <th>94</th>\n",
              "      <td>1511</td>\n",
              "      <td>38.7</td>\n",
              "      <td>10.7</td>\n",
              "      <td>348</td>\n",
              "      <td>1093</td>\n",
              "      <td>50.4</td>\n",
              "      <td>127.2</td>\n",
              "      <td>1452</td>\n",
              "      <td>good</td>\n",
              "      <td>70.66</td>\n",
              "    </tr>\n",
              "    <tr>\n",
              "      <th>95</th>\n",
              "      <td>1543</td>\n",
              "      <td>39.6</td>\n",
              "      <td>8.1</td>\n",
              "      <td>159</td>\n",
              "      <td>481</td>\n",
              "      <td>30.3</td>\n",
              "      <td>80.6</td>\n",
              "      <td>769</td>\n",
              "      <td>good</td>\n",
              "      <td>36.36</td>\n",
              "    </tr>\n",
              "    <tr>\n",
              "      <th>96</th>\n",
              "      <td>1011</td>\n",
              "      <td>37.8</td>\n",
              "      <td>10.5</td>\n",
              "      <td>264</td>\n",
              "      <td>964</td>\n",
              "      <td>70.7</td>\n",
              "      <td>93.2</td>\n",
              "      <td>1337</td>\n",
              "      <td>good</td>\n",
              "      <td>60.16</td>\n",
              "    </tr>\n",
              "    <tr>\n",
              "      <th>97</th>\n",
              "      <td>813</td>\n",
              "      <td>13.4</td>\n",
              "      <td>10.9</td>\n",
              "      <td>371</td>\n",
              "      <td>4355</td>\n",
              "      <td>58.0</td>\n",
              "      <td>97.0</td>\n",
              "      <td>1589</td>\n",
              "      <td>bad</td>\n",
              "      <td>36.33</td>\n",
              "    </tr>\n",
              "    <tr>\n",
              "      <th>98</th>\n",
              "      <td>654</td>\n",
              "      <td>28.8</td>\n",
              "      <td>3.9</td>\n",
              "      <td>140</td>\n",
              "      <td>1296</td>\n",
              "      <td>55.1</td>\n",
              "      <td>66.9</td>\n",
              "      <td>1148</td>\n",
              "      <td>good</td>\n",
              "      <td>68.76</td>\n",
              "    </tr>\n",
              "  </tbody>\n",
              "</table>\n",
              "<p>99 rows × 10 columns</p>\n",
              "</div>"
            ],
            "text/plain": [
              "    LAND_AREA  PERCENT_CITY  PERCENT_SENIOR  ...  INCOME  REGION  CRIME_RATE\n",
              "0        1384          78.1            12.3  ...   72100     bad       75.55\n",
              "1        3719          43.9             9.4  ...   54542    good       56.03\n",
              "2        3553          37.4            10.7  ...   33216     bad       41.32\n",
              "3        3916          29.9             8.8  ...   32906    good       67.38\n",
              "4        2480          31.5            10.5  ...   26573    good       80.19\n",
              "..        ...           ...             ...  ...     ...     ...         ...\n",
              "94       1511          38.7            10.7  ...    1452    good       70.66\n",
              "95       1543          39.6             8.1  ...     769    good       36.36\n",
              "96       1011          37.8            10.5  ...    1337    good       60.16\n",
              "97        813          13.4            10.9  ...    1589     bad       36.33\n",
              "98        654          28.8             3.9  ...    1148    good       68.76\n",
              "\n",
              "[99 rows x 10 columns]"
            ]
          },
          "metadata": {
            "tags": []
          },
          "execution_count": 56
        }
      ]
    },
    {
      "cell_type": "code",
      "metadata": {
        "id": "uxb9x6UJHz2e",
        "colab_type": "code",
        "colab": {
          "base_uri": "https://localhost:8080/",
          "height": 296
        },
        "outputId": "5c82f744-7ac9-4d93-fc90-9f401bb52cbb"
      },
      "source": [
        "import matplotlib.pyplot as plt\n",
        "df\n",
        "df.plot(kind='scatter', x='LAND_AREA', y='PERCENT_CITY', title='LAND AREA vs CITY PERCENT');\n"
      ],
      "execution_count": 8,
      "outputs": [
        {
          "output_type": "display_data",
          "data": {
            "image/png": "[encoded data removed]",
            "text/plain": [
              "<Figure size 432x288 with 1 Axes>"
            ]
          },
          "metadata": {
            "tags": [],
            "needs_background": "light"
          }
        }
      ]
    },
    {
      "cell_type": "code",
      "metadata": {
        "id": "P_k4rTQQJFma",
        "colab_type": "code",
        "colab": {
          "base_uri": "https://localhost:8080/",
          "height": 281
        },
        "outputId": "898d7ec4-4033-4bd4-dbdd-db2e076fdc27"
      },
      "source": [
        "df['REGION'].plot(kind='hist', title='REGION');\n"
      ],
      "execution_count": 10,
      "outputs": [
        {
          "output_type": "display_data",
          "data": {
            "image/png": "[encoded data removed]",
            "text/plain": [
              "<Figure size 432x288 with 1 Axes>"
            ]
          },
          "metadata": {
            "tags": [],
            "needs_background": "light"
          }
        }
      ]
    }
  ]
}